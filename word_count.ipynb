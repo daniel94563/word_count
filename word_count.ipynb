{
  "nbformat": 4,
  "nbformat_minor": 0,
  "metadata": {
    "colab": {
      "name": "medium.ipynb",
      "provenance": []
    },
    "kernelspec": {
      "name": "python3",
      "display_name": "Python 3"
    },
    "language_info": {
      "name": "python"
    }
  },
  "cells": [
    {
      "cell_type": "markdown",
      "metadata": {
        "id": "kXhH8LSC9ly7"
      },
      "source": [
        "Prerequisite\n",
        "==========================================="
      ]
    },
    {
      "cell_type": "code",
      "metadata": {
        "id": "-K6t1Zjs9fA_"
      },
      "source": [
        "!apt-get -y install openjdk-8-jre-headless\n",
        "!pip install pyspark"
      ],
      "execution_count": null,
      "outputs": []
    },
    {
      "cell_type": "markdown",
      "metadata": {
        "id": "fwFe5QhA81Uf"
      },
      "source": [
        "Data preparation<br>\n"
      ]
    },
    {
      "cell_type": "code",
      "metadata": {
        "id": "TLKTEwTo7Kgv"
      },
      "source": [
        "!git clone https://github.com/apache/spark.git"
      ],
      "execution_count": null,
      "outputs": []
    },
    {
      "cell_type": "code",
      "metadata": {
        "id": "hGwHAw7F72Vl"
      },
      "source": [
        "%cd spark/\n",
        "!git log --date=short --pretty=format:'%h,%an,%ad,%s' >> ./commitlog.csv"
      ],
      "execution_count": null,
      "outputs": []
    },
    {
      "cell_type": "code",
      "metadata": {
        "id": "R9bqi1xQ8Iha"
      },
      "source": [
        "!cat commitlog.csv"
      ],
      "execution_count": null,
      "outputs": []
    },
    {
      "cell_type": "markdown",
      "metadata": {
        "id": "zjrA_Lws9Ti1"
      },
      "source": [
        "Word Count (Part One)\n",
        "==========================="
      ]
    },
    {
      "cell_type": "code",
      "metadata": {
        "id": "4Fhh1nGK9XRf"
      },
      "source": [
        "from pyspark.sql import SparkSession\n",
        "from pyspark import SparkContext\n",
        "\n",
        "spark = SparkSession.builder.master(\"local\").getOrCreate()\n",
        "sc = SparkContext.getOrCreate()"
      ],
      "execution_count": null,
      "outputs": []
    },
    {
      "cell_type": "code",
      "metadata": {
        "colab": {
          "base_uri": "https://localhost:8080/"
        },
        "id": "NR-EERTM9iIA",
        "outputId": "0642ec2e-0e4b-42bf-e8fb-d8a5fb76959f"
      },
      "source": [
        "df = spark.read.csv('commitlog.csv')\n",
        "df.show(1)"
      ],
      "execution_count": null,
      "outputs": [
        {
          "output_type": "stream",
          "text": [
            "+----------+---------+----------+--------------------+\n",
            "|       _c0|      _c1|       _c2|                 _c3|\n",
            "+----------+---------+----------+--------------------+\n",
            "|89e907f76c|Sean Owen|2021-08-29|[SPARK-36603][COR...|\n",
            "+----------+---------+----------+--------------------+\n",
            "only showing top 1 row\n",
            "\n"
          ],
          "name": "stdout"
        }
      ]
    },
    {
      "cell_type": "code",
      "metadata": {
        "colab": {
          "base_uri": "https://localhost:8080/"
        },
        "id": "cwAvFJXJ-Rfx",
        "outputId": "0613dce1-6616-4497-9883-f58745e22a26"
      },
      "source": [
        "renamed_df = df.withColumnRenamed('_c0','hash') \\\n",
        ".withColumnRenamed('_c1','contributor') \\\n",
        ".withColumnRenamed('_c2','dt') \\\n",
        ".withColumnRenamed('_c3','message')\n",
        "renamed_df.show(1)"
      ],
      "execution_count": null,
      "outputs": [
        {
          "output_type": "stream",
          "text": [
            "+----------+-----------+----------+--------------------+\n",
            "|      hash|contributor|        dt|             message|\n",
            "+----------+-----------+----------+--------------------+\n",
            "|89e907f76c|  Sean Owen|2021-08-29|[SPARK-36603][COR...|\n",
            "+----------+-----------+----------+--------------------+\n",
            "only showing top 1 row\n",
            "\n"
          ],
          "name": "stdout"
        }
      ]
    },
    {
      "cell_type": "code",
      "metadata": {
        "id": "sNN3koHF-YTl"
      },
      "source": [
        "from pyspark.sql.functions import *\n",
        "words = renamed_df.select('hash', \\\n",
        "'contributor', \\\n",
        "'dt', \\\n",
        "explode(split(col('message'),' ')).alias('word'))"
      ],
      "execution_count": null,
      "outputs": []
    },
    {
      "cell_type": "code",
      "metadata": {
        "colab": {
          "base_uri": "https://localhost:8080/"
        },
        "id": "Qsj7Kaop_9cx",
        "outputId": "b8e19e80-a3e7-4d61-b697-f2a65782d4d8"
      },
      "source": [
        "words.filter('hash=\"281b00ab5b\"').show()"
      ],
      "execution_count": null,
      "outputs": [
        {
          "output_type": "stream",
          "text": [
            "+----------+--------------+----------+--------------------+\n",
            "|      hash|   contributor|        dt|                word|\n",
            "+----------+--------------+----------+--------------------+\n",
            "|281b00ab5b|Kousuke Saruta|2021-08-18|[SPARK-34309][BUI...|\n",
            "|281b00ab5b|Kousuke Saruta|2021-08-18|             Upgrade|\n",
            "|281b00ab5b|Kousuke Saruta|2021-08-18|            Caffeine|\n",
            "|281b00ab5b|Kousuke Saruta|2021-08-18|                  to|\n",
            "|281b00ab5b|Kousuke Saruta|2021-08-18|               2.9.2|\n",
            "+----------+--------------+----------+--------------------+\n",
            "\n"
          ],
          "name": "stdout"
        }
      ]
    },
    {
      "cell_type": "code",
      "metadata": {
        "colab": {
          "base_uri": "https://localhost:8080/"
        },
        "id": "4-4dsqy9ABlJ",
        "outputId": "c9694e7c-9e01-410b-93c8-d352253a5144"
      },
      "source": [
        "words.groupBy(lower(col('word')).alias('word')) \\\n",
        ".count() \\\n",
        ".orderBy(desc(col('count'))) \\\n",
        ".show()"
      ],
      "execution_count": null,
      "outputs": [
        {
          "output_type": "stream",
          "text": [
            "+-------+-----+\n",
            "|   word|count|\n",
            "+-------+-----+\n",
            "|     in| 7354|\n",
            "|     to| 6838|\n",
            "|    for| 5407|\n",
            "|    the| 3970|\n",
            "|    fix| 3462|\n",
            "|     of| 3413|\n",
            "|    and| 3162|\n",
            "|    add| 3152|\n",
            "|   from| 2340|\n",
            "|      a| 1875|\n",
            "|  merge| 1755|\n",
            "|support| 1553|\n",
            "|   with| 1536|\n",
            "|   when| 1485|\n",
            "|    use| 1455|\n",
            "| should| 1424|\n",
            "|  [sql]| 1364|\n",
            "| remove| 1226|\n",
            "|   pull| 1190|\n",
            "|     on| 1174|\n",
            "+-------+-----+\n",
            "only showing top 20 rows\n",
            "\n"
          ],
          "name": "stdout"
        }
      ]
    },
    {
      "cell_type": "code",
      "metadata": {
        "id": "79ra7JqMBKmW"
      },
      "source": [
        ""
      ],
      "execution_count": null,
      "outputs": []
    },
    {
      "cell_type": "code",
      "metadata": {
        "id": "r8fYYQbpCOrJ"
      },
      "source": [
        ""
      ],
      "execution_count": null,
      "outputs": []
    },
    {
      "cell_type": "code",
      "metadata": {
        "id": "pzrA7l08CV0L"
      },
      "source": [
        ""
      ],
      "execution_count": null,
      "outputs": []
    },
    {
      "cell_type": "markdown",
      "metadata": {
        "id": "rBIC0a-_Cay8"
      },
      "source": [
        "# Word Count (Part Two)\n"
      ]
    },
    {
      "cell_type": "code",
      "metadata": {
        "id": "_9vwXEhZCd2R"
      },
      "source": [
        "stop_words = [\"i\", \"me\", \"my\", \"myself\", \"we\", \"our\", \"ours\", \"ourselves\", \"you\", \"your\", \"yours\", \"yourself\", \"yourselves\", \"he\", \"him\", \"his\", \"himself\", \"she\", \"her\", \"hers\", \"herself\", \"it\", \"its\", \"itself\", \"they\", \"them\", \"their\", \"theirs\", \"themselves\", \"what\", \"which\", \"who\", \"whom\", \"this\", \"that\", \"these\", \"those\", \"am\", \"is\", \"are\", \"was\", \"were\", \"be\", \"been\", \"being\", \"have\", \"has\", \"had\", \"having\", \"do\", \"does\", \"did\", \"doing\", \"a\", \"an\", \"the\", \"and\", \"but\", \"if\", \"or\", \"because\", \"as\", \"until\", \"while\", \"of\", \"at\", \"by\", \"for\", \"with\", \"about\", \"against\", \"between\", \"into\", \"through\", \"during\", \"before\", \"after\", \"above\", \"below\", \"to\", \"from\", \"up\", \"down\", \"in\", \"out\", \"on\", \"off\", \"over\", \"under\", \"again\", \"further\", \"then\", \"once\", \"here\", \"there\", \"when\", \"where\", \"why\", \"how\", \"all\", \"any\", \"both\", \"each\", \"few\", \"more\", \"most\", \"other\", \"some\", \"such\", \"no\", \"nor\", \"not\", \"only\", \"own\", \"same\", \"so\", \"than\", \"too\", \"very\", \"s\", \"t\", \"can\", \"will\", \"just\", \"don\", \"should\", \"now\"]"
      ],
      "execution_count": null,
      "outputs": []
    },
    {
      "cell_type": "code",
      "metadata": {
        "colab": {
          "base_uri": "https://localhost:8080/"
        },
        "id": "O4fRVu4KLRyT",
        "outputId": "977ae799-38a8-4b52-a147-a98731207d69"
      },
      "source": [
        "words.groupBy(lower(col('word')).alias('word')) \\\n",
        ".count() \\\n",
        ".orderBy(desc(col('count'))) \\\n",
        ".filter(~col('word').isin(stop_words)).show()"
      ],
      "execution_count": null,
      "outputs": [
        {
          "output_type": "stream",
          "text": [
            "+-------+-----+\n",
            "|   word|count|\n",
            "+-------+-----+\n",
            "|    fix| 3462|\n",
            "|    add| 3152|\n",
            "|  merge| 1755|\n",
            "|support| 1553|\n",
            "|    use| 1455|\n",
            "|  [sql]| 1364|\n",
            "| remove| 1226|\n",
            "|   pull| 1190|\n",
            "|request| 1150|\n",
            "|   test| 1122|\n",
            "| update|  913|\n",
            "|  spark|  860|\n",
            "|   make|  764|\n",
            "|    api|  725|\n",
            "| python|  698|\n",
            "|  table|  676|\n",
            "|    sql|  673|\n",
            "|  tests|  663|\n",
            "|   code|  660|\n",
            "|   data|  627|\n",
            "+-------+-----+\n",
            "only showing top 20 rows\n",
            "\n"
          ],
          "name": "stdout"
        }
      ]
    },
    {
      "cell_type": "code",
      "metadata": {
        "colab": {
          "base_uri": "https://localhost:8080/"
        },
        "id": "eBbLVDQKLUPr",
        "outputId": "a86467d9-c90d-43eb-cb0d-46a5c0f2f448"
      },
      "source": [
        "words.groupBy('contributor',lower(col('word')).alias('word')) \\\n",
        ".count() \\\n",
        ".orderBy(desc(col('count'))) \\\n",
        ".filter(~col('word').isin(stop_words)).show()"
      ],
      "execution_count": null,
      "outputs": [
        {
          "output_type": "stream",
          "text": [
            "+---------------+---------+-----+\n",
            "|    contributor|     word|count|\n",
            "+---------------+---------+-----+\n",
            "|  Matei Zaharia|    merge|  764|\n",
            "|  Matei Zaharia|     pull|  612|\n",
            "|  Matei Zaharia|  request|  610|\n",
            "|    Reynold Xin|    merge|  269|\n",
            "|     Davies Liu|    [sql]|  235|\n",
            "|    Reynold Xin|     pull|  215|\n",
            "|    Reynold Xin|  request|  208|\n",
            "|Patrick Wendell|     pull|  200|\n",
            "|Patrick Wendell|    merge|  184|\n",
            "|Patrick Wendell|  request|  164|\n",
            "|  Matei Zaharia|   branch|  152|\n",
            "|     Cheng Lian|    [sql]|  142|\n",
            "|     Davies Liu|[pyspark]|  138|\n",
            "|  Dongjoon Hyun|      fix|  122|\n",
            "|    Reynold Xin|   remove|  122|\n",
            "|  Dongjoon Hyun|      add|  116|\n",
            "|     Josh Rosen|      fix|  112|\n",
            "|  Matei Zaharia|      fix|  111|\n",
            "|     Davies Liu|      fix|  110|\n",
            "|   Shixiong Zhu|      fix|   99|\n",
            "+---------------+---------+-----+\n",
            "only showing top 20 rows\n",
            "\n"
          ],
          "name": "stdout"
        }
      ]
    },
    {
      "cell_type": "code",
      "metadata": {
        "id": "gA7SxS41LaFM",
        "colab": {
          "base_uri": "https://localhost:8080/"
        },
        "outputId": "bd021648-32bc-47f3-e208-4e91c6d7024a"
      },
      "source": [
        "stop_words += [\"merge\", \"pull\", \"request\", \"fix\"]\n",
        "\n",
        "words \\\n",
        ".filter(col('dt')>'2020-12-31') \\\n",
        ".groupBy(lower(col('word')).alias('word')) \\\n",
        ".count()\\\n",
        ".orderBy(desc(col('count'))) \\\n",
        ".filter(~col('word') \\\n",
        ".isin(stop_words)) \\\n",
        ".show()"
      ],
      "execution_count": null,
      "outputs": [
        {
          "output_type": "stream",
          "text": [
            "+---------+-----+\n",
            "|     word|count|\n",
            "+---------+-----+\n",
            "|      add|  244|\n",
            "|  support|  182|\n",
            "|      use|  112|\n",
            "|   remove|   91|\n",
            "|     type|   87|\n",
            "|     test|   85|\n",
            "|  upgrade|   81|\n",
            "|    table|   76|\n",
            "|   update|   73|\n",
            "|    check|   72|\n",
            "| interval|   71|\n",
            "|      sql|   60|\n",
            "|     ansi|   58|\n",
            "|     data|   57|\n",
            "|    tests|   51|\n",
            "|    avoid|   50|\n",
            "|    scala|   49|\n",
            "| function|   49|\n",
            "|     make|   49|\n",
            "|exception|   47|\n",
            "+---------+-----+\n",
            "only showing top 20 rows\n",
            "\n"
          ],
          "name": "stdout"
        }
      ]
    },
    {
      "cell_type": "code",
      "metadata": {
        "colab": {
          "base_uri": "https://localhost:8080/"
        },
        "id": "CvNO22MeEfwO",
        "outputId": "045db841-30ec-44eb-bb21-6c99680e33bb"
      },
      "source": [
        "words \\\n",
        ".filter(col('dt')>'2020-12-31') \\\n",
        ".filter(lower(col('word')).contains('py')) \\\n",
        ".count()"
      ],
      "execution_count": null,
      "outputs": [
        {
          "output_type": "execute_result",
          "data": {
            "text/plain": [
              "399"
            ]
          },
          "metadata": {},
          "execution_count": 17
        }
      ]
    },
    {
      "cell_type": "code",
      "metadata": {
        "colab": {
          "base_uri": "https://localhost:8080/"
        },
        "id": "wSqZBjp9ElWy",
        "outputId": "d8e9aae5-7ec9-446e-8410-faa738c18394"
      },
      "source": [
        "words \\\n",
        ".filter(col('dt')>'2020-12-31') \\\n",
        ".filter(lower(col('word')).contains('scala')) \\\n",
        ".count()"
      ],
      "execution_count": null,
      "outputs": [
        {
          "output_type": "execute_result",
          "data": {
            "text/plain": [
              "86"
            ]
          },
          "metadata": {},
          "execution_count": 16
        }
      ]
    }
  ]
}